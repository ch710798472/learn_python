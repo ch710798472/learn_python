{
 "metadata": {
  "name": "cat_id_matchsets"
 }, 
 "nbformat": 2, 
 "worksheets": [
  {
   "cells": [
    {
     "cell_type": "code", 
     "collapsed": false, 
     "input": [
      "#\u5199\u5165\u5339\u914d\u96c6\u91cc\u7684\u6bcf\u4e2a\u7269\u54c1\u7684\u5206\u7c7b\u53f7", 
      "import csv", 
      "fh = open ( '/home/ch/ipython/cat_id_matchsets.txt', 'w' ) ", 
      "f = open('/home/ch/ipython/outofid_matchsets.txt')", 
      "rate1 = open('/home/ch/taobao/dim_items.txt')", 
      "", 
      "dic = dict()", 
      "for line in rate1:", 
      "    line = line.strip().split(' ')", 
      "    dic[line[0]] = [line[1],line[2]]", 
      "", 
      "data = csv.reader(f,delimiter=';')", 
      "for l in data:", 
      "    for li in l:", 
      "        if(dic.has_key(li)):", 
      "            fh.write(dic[li][0]+' ')", 
      "    fh.write('\\n')", 
      "print 'write OK\\n'"
     ], 
     "language": "python", 
     "outputs": [], 
     "prompt_number": 81
    }, 
    {
     "cell_type": "code", 
     "collapsed": false, 
     "input": [
      "#\u5199\u5165\u5339\u914d\u96c6\u91cc\u7684\u6bcf\u4e2a\u7269\u54c1\u7684\u641c\u7d22\u5173\u952e\u8bcd", 
      "import csv", 
      "fh = open ( '/home/ch/ipython/terms_matchsets.txt', 'w' ) ", 
      "f = open('/home/ch/ipython/outofid_matchsets.txt')", 
      "rate1 = open('/home/ch/taobao/dim_items.txt')", 
      "#dic\u91cc\u9762\u4fdd\u5b58\u4e86\u6240\u6709\u7269\u54c1\u91cc\u9762\u7684\u6570\u636eid,cat_id,items", 
      "dic = dict()", 
      "for line in rate1:", 
      "    line = line.strip().split(' ')", 
      "    dic[line[0]] = [line[1],line[2]]", 
      "", 
      "data = csv.reader(f,delimiter=';')", 
      "i = 0", 
      "for l in data:", 
      "    fh.write(str(i)+' ')", 
      "    i = i+1", 
      "    for li in l:", 
      "        stt = ''", 
      "        if(dic.has_key(li)):", 
      "            stt =stt + dic[li][1]+','", 
      "    fh.write(stt.strip(',')+'\\n')", 
      "print 'write OK\\n'"
     ], 
     "language": "python", 
     "outputs": [], 
     "prompt_number": 98
    }, 
    {
     "cell_type": "code", 
     "collapsed": false, 
     "input": [
      "#\u5199\u5165\u6d4b\u8bd5\u6587\u4ef6\u91cc\u9762\u7684\u6bcf\u4e2a\u7269\u54c1\u7684terms", 
      "import csv", 
      "fh = open ( '/home/ch/ipython/terms_test.txt', 'w' ) ", 
      "f = open('/home/ch/taobao/test_items.txt')", 
      "rate1 = open('/home/ch/taobao/dim_items.txt')", 
      "#dic\u91cc\u9762\u4fdd\u5b58\u4e86\u6240\u6709\u7269\u54c1\u91cc\u9762\u7684\u6570\u636eid,cat_id,items", 
      "dic = dict()", 
      "for line in rate1:", 
      "    line = line.strip().split(' ')", 
      "    dic[line[0]] = [line[1],line[2]]", 
      "", 
      "for l in f:", 
      "    stt = ''", 
      "    l=l.strip()", 
      "    if(dic.has_key(l)):", 
      "        stt =stt + dic[l][0] + ',' + dic[l][1]", 
      "    fh.write(stt + '\\n')", 
      "print 'write OK\\n'"
     ], 
     "language": "python", 
     "outputs": [], 
     "prompt_number": 100
    }, 
    {
     "cell_type": "code", 
     "collapsed": true, 
     "input": [], 
     "language": "python", 
     "outputs": []
    }
   ]
  }
 ]
}